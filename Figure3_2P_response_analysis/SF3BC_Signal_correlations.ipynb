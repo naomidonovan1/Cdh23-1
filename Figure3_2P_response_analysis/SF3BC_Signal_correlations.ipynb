{
 "cells": [
  {
   "cell_type": "code",
   "execution_count": 15,
   "metadata": {},
   "outputs": [],
   "source": [
    "import sys\n",
    "import os \n",
    "from pathlib import Path\n",
    "import numpy as np\n",
    "import matplotlib.pyplot as plt\n",
    "import seaborn as sns\n",
    "\n",
    "sys.path.insert(0, os.path.join(os.path.dirname(os.path.abspath(\"\")),\"Code\",\"Travis\"))\n",
    "import data_helper\n",
    "import utils\n",
    "import responses_analysis\n",
    "import plotting\n",
    "import config \n",
    "\n",
    "save_path = config.save_path\n",
    "data_path = config.data_path\n",
    "if not save_path.exists():\n",
    "    save_path.mkdir()\n",
    "\n",
    "\n",
    "color_dict = config.color_dict\n",
    "order = config.order"
   ]
  },
  {
   "cell_type": "code",
   "execution_count": 16,
   "metadata": {},
   "outputs": [
    {
     "name": "stdout",
     "output_type": "stream",
     "text": [
      "**/2P/L23/[0-9]* all\n"
     ]
    },
    {
     "data": {
      "text/html": [
       "<div>\n",
       "<style scoped>\n",
       "    .dataframe tbody tr th:only-of-type {\n",
       "        vertical-align: middle;\n",
       "    }\n",
       "\n",
       "    .dataframe tbody tr th {\n",
       "        vertical-align: top;\n",
       "    }\n",
       "\n",
       "    .dataframe thead th {\n",
       "        text-align: right;\n",
       "    }\n",
       "</style>\n",
       "<table border=\"1\" class=\"dataframe\">\n",
       "  <thead>\n",
       "    <tr style=\"text-align: right;\">\n",
       "      <th></th>\n",
       "      <th>Mouse</th>\n",
       "      <th>Sex</th>\n",
       "      <th>Genotype</th>\n",
       "      <th>DOB</th>\n",
       "      <th>2P_path</th>\n",
       "      <th>total_neurons</th>\n",
       "      <th>sig_responders</th>\n",
       "      <th>sound_responsive_percent</th>\n",
       "      <th>signalCorr</th>\n",
       "      <th>noiseCorr</th>\n",
       "    </tr>\n",
       "  </thead>\n",
       "  <tbody>\n",
       "    <tr>\n",
       "      <th>0</th>\n",
       "      <td>m602</td>\n",
       "      <td>F</td>\n",
       "      <td>Thy1-GC6s; Cdh23 (Ahl/ahl)</td>\n",
       "      <td>12/6/2021</td>\n",
       "      <td>c:\\Users\\travisb\\Dropbox (Personal)\\Cdh23\\Data...</td>\n",
       "      <td>663</td>\n",
       "      <td>121</td>\n",
       "      <td>18.250377</td>\n",
       "      <td>0.086338</td>\n",
       "      <td>0.005453</td>\n",
       "    </tr>\n",
       "    <tr>\n",
       "      <th>1</th>\n",
       "      <td>m603</td>\n",
       "      <td>F</td>\n",
       "      <td>Thy1-GC6s; Cdh23 (Ahl/ahl)</td>\n",
       "      <td>12/6/2021</td>\n",
       "      <td>c:\\Users\\travisb\\Dropbox (Personal)\\Cdh23\\Data...</td>\n",
       "      <td>704</td>\n",
       "      <td>105</td>\n",
       "      <td>14.914773</td>\n",
       "      <td>0.052694</td>\n",
       "      <td>0.004246</td>\n",
       "    </tr>\n",
       "    <tr>\n",
       "      <th>2</th>\n",
       "      <td>m609</td>\n",
       "      <td>F</td>\n",
       "      <td>Thy1-GC6s; Cdh23 (ahl/ahl)</td>\n",
       "      <td>12/6/2021</td>\n",
       "      <td>c:\\Users\\travisb\\Dropbox (Personal)\\Cdh23\\Data...</td>\n",
       "      <td>684</td>\n",
       "      <td>88</td>\n",
       "      <td>12.865497</td>\n",
       "      <td>0.045551</td>\n",
       "      <td>0.001923</td>\n",
       "    </tr>\n",
       "    <tr>\n",
       "      <th>3</th>\n",
       "      <td>m670</td>\n",
       "      <td>F</td>\n",
       "      <td>Thy1-GC6s; Cdh23 (Ahl/ahl)</td>\n",
       "      <td>1/23/2022</td>\n",
       "      <td>c:\\Users\\travisb\\Dropbox (Personal)\\Cdh23\\Data...</td>\n",
       "      <td>1529</td>\n",
       "      <td>694</td>\n",
       "      <td>45.389143</td>\n",
       "      <td>0.076358</td>\n",
       "      <td>0.003595</td>\n",
       "    </tr>\n",
       "    <tr>\n",
       "      <th>4</th>\n",
       "      <td>m674</td>\n",
       "      <td>F</td>\n",
       "      <td>Thy1-GC6s; Cdh23 (ahl/ahl)</td>\n",
       "      <td>1/23/2022</td>\n",
       "      <td>c:\\Users\\travisb\\Dropbox (Personal)\\Cdh23\\Data...</td>\n",
       "      <td>2250</td>\n",
       "      <td>587</td>\n",
       "      <td>26.088889</td>\n",
       "      <td>0.053687</td>\n",
       "      <td>0.002320</td>\n",
       "    </tr>\n",
       "  </tbody>\n",
       "</table>\n",
       "</div>"
      ],
      "text/plain": [
       "  Mouse Sex                    Genotype        DOB  \\\n",
       "0  m602   F  Thy1-GC6s; Cdh23 (Ahl/ahl)  12/6/2021   \n",
       "1  m603   F  Thy1-GC6s; Cdh23 (Ahl/ahl)  12/6/2021   \n",
       "2  m609   F  Thy1-GC6s; Cdh23 (ahl/ahl)  12/6/2021   \n",
       "3  m670   F  Thy1-GC6s; Cdh23 (Ahl/ahl)  1/23/2022   \n",
       "4  m674   F  Thy1-GC6s; Cdh23 (ahl/ahl)  1/23/2022   \n",
       "\n",
       "                                             2P_path  total_neurons  \\\n",
       "0  c:\\Users\\travisb\\Dropbox (Personal)\\Cdh23\\Data...            663   \n",
       "1  c:\\Users\\travisb\\Dropbox (Personal)\\Cdh23\\Data...            704   \n",
       "2  c:\\Users\\travisb\\Dropbox (Personal)\\Cdh23\\Data...            684   \n",
       "3  c:\\Users\\travisb\\Dropbox (Personal)\\Cdh23\\Data...           1529   \n",
       "4  c:\\Users\\travisb\\Dropbox (Personal)\\Cdh23\\Data...           2250   \n",
       "\n",
       "   sig_responders  sound_responsive_percent  signalCorr  noiseCorr  \n",
       "0             121                 18.250377    0.086338   0.005453  \n",
       "1             105                 14.914773    0.052694   0.004246  \n",
       "2              88                 12.865497    0.045551   0.001923  \n",
       "3             694                 45.389143    0.076358   0.003595  \n",
       "4             587                 26.088889    0.053687   0.002320  "
      ]
     },
     "execution_count": 16,
     "metadata": {},
     "output_type": "execute_result"
    }
   ],
   "source": [
    "###load in 2P data\n",
    "test = utils.findUnanalyzedStacks(data_path, pattern=\"**/2P/L23/[0-9]*\", foldername=\"all\")\n",
    "twop_mice = responses_analysis.get2Pmice(data_path, test)\n",
    "twop_mice = data_helper.getData(twop_mice)\n",
    "twop_mice.head()"
   ]
  },
  {
   "cell_type": "code",
   "execution_count": 17,
   "metadata": {},
   "outputs": [
    {
     "name": "stderr",
     "output_type": "stream",
     "text": [
      "C:\\Users\\travisb\\AppData\\Local\\Temp\\ipykernel_35516\\4111132580.py:12: UserWarning: set_ticklabels() should only be used with a fixed number of ticks, i.e. after set_ticks() or using a FixedLocator.\n",
      "  ax.set_xticklabels(['ahl B6','Ahl+ B6','Ahl+\\nCBA.B6'], ha='center',x=0)\n"
     ]
    },
    {
     "data": {
      "image/png": "[encoded data removed]",
      "text/plain": [
       "<Figure size 130x150 with 1 Axes>"
      ]
     },
     "metadata": {},
     "output_type": "display_data"
    }
   ],
   "source": [
    "np.random.seed(51)\n",
    "\n",
    "fig, ax = plt.subplots(figsize=(1.3,1.5))\n",
    "sns.pointplot(twop_mice, y=\"signalCorr\", x = \"Genotype\", hue = \"Genotype\", order = order, palette=color_dict, markersize=4, linewidth = 1.5, errorbar='se')\n",
    "\n",
    "sns.stripplot(data = twop_mice, y=\"signalCorr\", x = \"Genotype\", hue = \"Genotype\", marker='o', size=3, legend = None, palette=color_dict, alpha = 0.3)\n",
    "#sns.catplot(data = twop_mice, x=\"signalCorr\", y = \"Genotype\", hue = \"Genotype\", palette= color_dict, estimator='Mean',order = order, ax=g)\n",
    "#sns.stripplot(twop_mice, x=\"Genotype\", y = \"total_offset_prop\", hue = \"Genotype\", marker='o', size=3, legend = None, palette=color_dict, alpha = 0.3)\n",
    "\n",
    "plt.ylim([0,.12])\n",
    "plt.yticks(np.arange(0,.13,0.04))\n",
    "ax.set_xticklabels(['ahl B6','Ahl+ B6','Ahl+\\nCBA.B6'], ha='center',x=0)\n",
    "ax.set_xlabel(\"\")\n",
    "ax.set_ylabel(\"Correlation coefficient\", fontsize=7)\n",
    "ax.set_title(\"Signal Correlations\")\n",
    "ax.title.set_size(8)\n",
    "fig, ax = plotting.figQuality(fig, ax)\n",
    "plt.savefig(save_path / \"SF3_B_signalCorrelations.svg\")\n",
    "#plt.set_figwidth(3.5)\n",
    "\n"
   ]
  },
  {
   "cell_type": "code",
   "execution_count": 18,
   "metadata": {},
   "outputs": [
    {
     "data": {
      "text/html": [
       "<div>\n",
       "<style scoped>\n",
       "    .dataframe tbody tr th:only-of-type {\n",
       "        vertical-align: middle;\n",
       "    }\n",
       "\n",
       "    .dataframe tbody tr th {\n",
       "        vertical-align: top;\n",
       "    }\n",
       "\n",
       "    .dataframe thead th {\n",
       "        text-align: right;\n",
       "    }\n",
       "</style>\n",
       "<table border=\"1\" class=\"dataframe\">\n",
       "  <thead>\n",
       "    <tr style=\"text-align: right;\">\n",
       "      <th></th>\n",
       "      <th>sum_sq</th>\n",
       "      <th>df</th>\n",
       "      <th>F</th>\n",
       "      <th>PR(&gt;F)</th>\n",
       "    </tr>\n",
       "  </thead>\n",
       "  <tbody>\n",
       "    <tr>\n",
       "      <th>C(Genotype)</th>\n",
       "      <td>0.005702</td>\n",
       "      <td>2.0</td>\n",
       "      <td>16.734750</td>\n",
       "      <td>0.000151</td>\n",
       "    </tr>\n",
       "    <tr>\n",
       "      <th>C(Sex)</th>\n",
       "      <td>0.000072</td>\n",
       "      <td>1.0</td>\n",
       "      <td>0.420453</td>\n",
       "      <td>0.526514</td>\n",
       "    </tr>\n",
       "    <tr>\n",
       "      <th>C(Genotype):C(Sex)</th>\n",
       "      <td>0.000171</td>\n",
       "      <td>2.0</td>\n",
       "      <td>0.501317</td>\n",
       "      <td>0.615529</td>\n",
       "    </tr>\n",
       "    <tr>\n",
       "      <th>Residual</th>\n",
       "      <td>0.002556</td>\n",
       "      <td>15.0</td>\n",
       "      <td>NaN</td>\n",
       "      <td>NaN</td>\n",
       "    </tr>\n",
       "  </tbody>\n",
       "</table>\n",
       "</div>"
      ],
      "text/plain": [
       "                      sum_sq    df          F    PR(>F)\n",
       "C(Genotype)         0.005702   2.0  16.734750  0.000151\n",
       "C(Sex)              0.000072   1.0   0.420453  0.526514\n",
       "C(Genotype):C(Sex)  0.000171   2.0   0.501317  0.615529\n",
       "Residual            0.002556  15.0        NaN       NaN"
      ]
     },
     "execution_count": 18,
     "metadata": {},
     "output_type": "execute_result"
    }
   ],
   "source": [
    "import statsmodels.api as sm\n",
    "from statsmodels.formula.api import ols\n",
    "model = ols('signalCorr ~ C(Genotype) + C(Sex) + C(Genotype):C(Sex)', data=twop_mice).fit()\n",
    "sm.stats.anova_lm(model, typ=2)"
   ]
  },
  {
   "cell_type": "code",
   "execution_count": 19,
   "metadata": {},
   "outputs": [
    {
     "name": "stdout",
     "output_type": "stream",
     "text": [
      "Test Multiple Comparison ttest_ind \n",
      "FWER=0.05 method=bonf\n",
      "alphacSidak=0.02, alphacBonf=0.017\n",
      "==========================================================================================\n",
      "             group1                       group2             stat   pval  pval_corr reject\n",
      "------------------------------------------------------------------------------------------\n",
      "(F1) Thy1-GC6s; Cdh23 (Ahl/ahl) Thy1-GC6s; Cdh23 (Ahl/ahl) -6.8264    0.0    0.0001   True\n",
      "(F1) Thy1-GC6s; Cdh23 (Ahl/ahl) Thy1-GC6s; Cdh23 (ahl/ahl) -5.0173 0.0004    0.0012   True\n",
      "     Thy1-GC6s; Cdh23 (Ahl/ahl) Thy1-GC6s; Cdh23 (ahl/ahl)  0.0529 0.9585       1.0  False\n",
      "------------------------------------------------------------------------------------------\n"
     ]
    }
   ],
   "source": [
    "from scipy import stats\n",
    "import statsmodels.stats.multicomp as mc\n",
    "\n",
    "comp1 = mc.MultiComparison(twop_mice['signalCorr'], twop_mice['Genotype'])\n",
    "tbl, a1, a2 = comp1.allpairtest(stats.ttest_ind, method= \"bonf\")\n",
    "print(tbl)"
   ]
  },
  {
   "cell_type": "code",
   "execution_count": 20,
   "metadata": {},
   "outputs": [
    {
     "name": "stderr",
     "output_type": "stream",
     "text": [
      "C:\\Users\\travisb\\AppData\\Local\\Temp\\ipykernel_35516\\861670523.py:14: UserWarning: set_ticklabels() should only be used with a fixed number of ticks, i.e. after set_ticks() or using a FixedLocator.\n",
      "  ax.set_xticklabels(['ahl B6','Ahl B6','Ahl+\\nCBA.B6'], ha='center',x=0)\n"
     ]
    },
    {
     "data": {
      "image/png": "[encoded data removed]",
      "text/plain": [
       "<Figure size 130x150 with 1 Axes>"
      ]
     },
     "metadata": {},
     "output_type": "display_data"
    }
   ],
   "source": [
    "np.random.seed(51)\n",
    "\n",
    "fig, ax = plt.subplots(figsize=(1.3,1.5))\n",
    "\n",
    "sns.pointplot(twop_mice, y=\"noiseCorr\", x = \"Genotype\", hue = \"Genotype\", order = order, palette=color_dict, markersize=4, linewidth = 1.5, clip_on=False, errorbar='se')\n",
    "\n",
    "#sns.boxplot(twop_mice, y=\"signalCorr\",  x=\"Genotype\", hue = \"Genotype\", order =order , palette=color_dict, fill = False, saturation=0.75, width = 0.2, linewidth=1.5, showcaps=False)\n",
    "sns.stripplot(data = twop_mice, y=\"noiseCorr\", x = \"Genotype\", hue = \"Genotype\", marker='o', size=3, legend = None, palette=color_dict, alpha = 0.3, clip_on=False)\n",
    "#sns.catplot(data = twop_mice, x=\"signalCorr\", y = \"Genotype\", hue = \"Genotype\", palette= color_dict, estimator='Mean',order = order, ax=g)\n",
    "#sns.stripplot(twop_mice, x=\"Genotype\", y = \"total_offset_prop\", hue = \"Genotype\", marker='o', size=3, legend = None, palette=color_dict, alpha = 0.3)\n",
    "\n",
    "plt.ylim([0,0.02])\n",
    "plt.yticks(np.arange(0,0.025,0.01))\n",
    "ax.set_xticklabels(['ahl B6','Ahl B6','Ahl+\\nCBA.B6'], ha='center',x=0)\n",
    "ax.set_xlabel('')\n",
    "ax.set_ylabel(\"Correlation coefficient\", fontsize=7)\n",
    "ax.set_title(\"Noise Correlations\")\n",
    "ax.title.set_size(8)\n",
    "ax.set_clip_on(False)\n",
    "fig, ax = plotting.figQuality(fig, ax)\n",
    "plt.savefig(save_path / \"SF3_C_noiseCorrelations.svg\")\n",
    "#plt.set_figwidth(3.5)\n"
   ]
  },
  {
   "cell_type": "code",
   "execution_count": 21,
   "metadata": {},
   "outputs": [
    {
     "data": {
      "text/html": [
       "<div>\n",
       "<style scoped>\n",
       "    .dataframe tbody tr th:only-of-type {\n",
       "        vertical-align: middle;\n",
       "    }\n",
       "\n",
       "    .dataframe tbody tr th {\n",
       "        vertical-align: top;\n",
       "    }\n",
       "\n",
       "    .dataframe thead th {\n",
       "        text-align: right;\n",
       "    }\n",
       "</style>\n",
       "<table border=\"1\" class=\"dataframe\">\n",
       "  <thead>\n",
       "    <tr style=\"text-align: right;\">\n",
       "      <th></th>\n",
       "      <th>sum_sq</th>\n",
       "      <th>df</th>\n",
       "      <th>F</th>\n",
       "      <th>PR(&gt;F)</th>\n",
       "    </tr>\n",
       "  </thead>\n",
       "  <tbody>\n",
       "    <tr>\n",
       "      <th>C(Genotype)</th>\n",
       "      <td>5.415023e-07</td>\n",
       "      <td>2.0</td>\n",
       "      <td>0.067600</td>\n",
       "      <td>0.934917</td>\n",
       "    </tr>\n",
       "    <tr>\n",
       "      <th>C(Sex)</th>\n",
       "      <td>4.430800e-06</td>\n",
       "      <td>1.0</td>\n",
       "      <td>1.106268</td>\n",
       "      <td>0.309545</td>\n",
       "    </tr>\n",
       "    <tr>\n",
       "      <th>C(Genotype):C(Sex)</th>\n",
       "      <td>7.733258e-06</td>\n",
       "      <td>2.0</td>\n",
       "      <td>0.965407</td>\n",
       "      <td>0.403274</td>\n",
       "    </tr>\n",
       "    <tr>\n",
       "      <th>Residual</th>\n",
       "      <td>6.007769e-05</td>\n",
       "      <td>15.0</td>\n",
       "      <td>NaN</td>\n",
       "      <td>NaN</td>\n",
       "    </tr>\n",
       "  </tbody>\n",
       "</table>\n",
       "</div>"
      ],
      "text/plain": [
       "                          sum_sq    df         F    PR(>F)\n",
       "C(Genotype)         5.415023e-07   2.0  0.067600  0.934917\n",
       "C(Sex)              4.430800e-06   1.0  1.106268  0.309545\n",
       "C(Genotype):C(Sex)  7.733258e-06   2.0  0.965407  0.403274\n",
       "Residual            6.007769e-05  15.0       NaN       NaN"
      ]
     },
     "execution_count": 21,
     "metadata": {},
     "output_type": "execute_result"
    }
   ],
   "source": [
    "#stats\n",
    "model = ols('noiseCorr ~ C(Genotype) + C(Sex) + C(Genotype):C(Sex)', data=twop_mice).fit()\n",
    "sm.stats.anova_lm(model, typ=2)\n",
    "\n",
    "## ANOVA not significant, post-hoc test not necessary"
   ]
  }
 ],
 "metadata": {
  "kernelspec": {
   "display_name": "suite2p",
   "language": "python",
   "name": "python3"
  },
  "language_info": {
   "codemirror_mode": {
    "name": "ipython",
    "version": 3
   },
   "file_extension": ".py",
   "mimetype": "text/x-python",
   "name": "python",
   "nbconvert_exporter": "python",
   "pygments_lexer": "ipython3",
   "version": "3.9.19"
  }
 },
 "nbformat": 4,
 "nbformat_minor": 2
}

{
 "cells": [
  {
   "cell_type": "code",
   "execution_count": 14,
   "metadata": {},
   "outputs": [
    {
     "name": "stdout",
     "output_type": "stream",
     "text": [
      "**/2P/L23/[0-9]* all\n"
     ]
    },
    {
     "data": {
      "text/html": [
       "<div>\n",
       "<style scoped>\n",
       "    .dataframe tbody tr th:only-of-type {\n",
       "        vertical-align: middle;\n",
       "    }\n",
       "\n",
       "    .dataframe tbody tr th {\n",
       "        vertical-align: top;\n",
       "    }\n",
       "\n",
       "    .dataframe thead th {\n",
       "        text-align: right;\n",
       "    }\n",
       "</style>\n",
       "<table border=\"1\" class=\"dataframe\">\n",
       "  <thead>\n",
       "    <tr style=\"text-align: right;\">\n",
       "      <th></th>\n",
       "      <th>Mouse</th>\n",
       "      <th>Sex</th>\n",
       "      <th>Genotype</th>\n",
       "      <th>DOB</th>\n",
       "      <th>2P_path</th>\n",
       "      <th>total_neurons</th>\n",
       "      <th>sig_responders</th>\n",
       "      <th>sound_responsive_percent</th>\n",
       "      <th>signalCorr</th>\n",
       "      <th>noiseCorr</th>\n",
       "    </tr>\n",
       "  </thead>\n",
       "  <tbody>\n",
       "    <tr>\n",
       "      <th>0</th>\n",
       "      <td>m602</td>\n",
       "      <td>F</td>\n",
       "      <td>Thy1-GC6s; Cdh23 (Ahl/ahl)</td>\n",
       "      <td>12/6/2021</td>\n",
       "      <td>c:\\Users\\travisb\\Dropbox (Personal)\\Cdh23\\Data...</td>\n",
       "      <td>663</td>\n",
       "      <td>121</td>\n",
       "      <td>18.250377</td>\n",
       "      <td>0.086338</td>\n",
       "      <td>0.005453</td>\n",
       "    </tr>\n",
       "    <tr>\n",
       "      <th>1</th>\n",
       "      <td>m603</td>\n",
       "      <td>F</td>\n",
       "      <td>Thy1-GC6s; Cdh23 (Ahl/ahl)</td>\n",
       "      <td>12/6/2021</td>\n",
       "      <td>c:\\Users\\travisb\\Dropbox (Personal)\\Cdh23\\Data...</td>\n",
       "      <td>704</td>\n",
       "      <td>105</td>\n",
       "      <td>14.914773</td>\n",
       "      <td>0.052694</td>\n",
       "      <td>0.004246</td>\n",
       "    </tr>\n",
       "    <tr>\n",
       "      <th>2</th>\n",
       "      <td>m609</td>\n",
       "      <td>F</td>\n",
       "      <td>Thy1-GC6s; Cdh23 (ahl/ahl)</td>\n",
       "      <td>12/6/2021</td>\n",
       "      <td>c:\\Users\\travisb\\Dropbox (Personal)\\Cdh23\\Data...</td>\n",
       "      <td>684</td>\n",
       "      <td>88</td>\n",
       "      <td>12.865497</td>\n",
       "      <td>0.045551</td>\n",
       "      <td>0.001923</td>\n",
       "    </tr>\n",
       "    <tr>\n",
       "      <th>3</th>\n",
       "      <td>m670</td>\n",
       "      <td>F</td>\n",
       "      <td>Thy1-GC6s; Cdh23 (Ahl/ahl)</td>\n",
       "      <td>1/23/2022</td>\n",
       "      <td>c:\\Users\\travisb\\Dropbox (Personal)\\Cdh23\\Data...</td>\n",
       "      <td>1529</td>\n",
       "      <td>694</td>\n",
       "      <td>45.389143</td>\n",
       "      <td>0.076358</td>\n",
       "      <td>0.003595</td>\n",
       "    </tr>\n",
       "    <tr>\n",
       "      <th>4</th>\n",
       "      <td>m674</td>\n",
       "      <td>F</td>\n",
       "      <td>Thy1-GC6s; Cdh23 (ahl/ahl)</td>\n",
       "      <td>1/23/2022</td>\n",
       "      <td>c:\\Users\\travisb\\Dropbox (Personal)\\Cdh23\\Data...</td>\n",
       "      <td>2250</td>\n",
       "      <td>587</td>\n",
       "      <td>26.088889</td>\n",
       "      <td>0.053687</td>\n",
       "      <td>0.002320</td>\n",
       "    </tr>\n",
       "  </tbody>\n",
       "</table>\n",
       "</div>"
      ],
      "text/plain": [
       "  Mouse Sex                    Genotype        DOB  \\\n",
       "0  m602   F  Thy1-GC6s; Cdh23 (Ahl/ahl)  12/6/2021   \n",
       "1  m603   F  Thy1-GC6s; Cdh23 (Ahl/ahl)  12/6/2021   \n",
       "2  m609   F  Thy1-GC6s; Cdh23 (ahl/ahl)  12/6/2021   \n",
       "3  m670   F  Thy1-GC6s; Cdh23 (Ahl/ahl)  1/23/2022   \n",
       "4  m674   F  Thy1-GC6s; Cdh23 (ahl/ahl)  1/23/2022   \n",
       "\n",
       "                                             2P_path  total_neurons  \\\n",
       "0  c:\\Users\\travisb\\Dropbox (Personal)\\Cdh23\\Data...            663   \n",
       "1  c:\\Users\\travisb\\Dropbox (Personal)\\Cdh23\\Data...            704   \n",
       "2  c:\\Users\\travisb\\Dropbox (Personal)\\Cdh23\\Data...            684   \n",
       "3  c:\\Users\\travisb\\Dropbox (Personal)\\Cdh23\\Data...           1529   \n",
       "4  c:\\Users\\travisb\\Dropbox (Personal)\\Cdh23\\Data...           2250   \n",
       "\n",
       "   sig_responders  sound_responsive_percent  signalCorr  noiseCorr  \n",
       "0             121                 18.250377    0.086338   0.005453  \n",
       "1             105                 14.914773    0.052694   0.004246  \n",
       "2              88                 12.865497    0.045551   0.001923  \n",
       "3             694                 45.389143    0.076358   0.003595  \n",
       "4             587                 26.088889    0.053687   0.002320  "
      ]
     },
     "execution_count": 14,
     "metadata": {},
     "output_type": "execute_result"
    }
   ],
   "source": [
    "import data_helper\n",
    "import sys\n",
    "import os\n",
    "from pathlib import Path\n",
    "import importlib\n",
    "\n",
    "sys.path.insert(0, os.path.join(os.path.dirname(os.path.abspath(\"\")),\"Code\",\"Travis\"))\n",
    "import utils\n",
    "import responses_analysis\n",
    "import plotting\n",
    "import config \n",
    "\n",
    "save_path = config.save_path\n",
    "data_path = config.data_path\n",
    "\n",
    "if not save_path.exists():\n",
    "    save_path.mkdir()\n",
    "\n",
    "test = utils.findUnanalyzedStacks(data_path, pattern=\"**/2P/L23/[0-9]*\", foldername=\"all\")\n",
    "twop_mice = responses_analysis.get2Pmice(data_path, test)\n",
    "twop_mice = data_helper.getData(twop_mice) ##load and analyze data with\n",
    "twop_mice.head()"
   ]
  },
  {
   "cell_type": "code",
   "execution_count": 15,
   "metadata": {},
   "outputs": [
    {
     "name": "stderr",
     "output_type": "stream",
     "text": [
      "C:\\Users\\travisb\\AppData\\Local\\Temp\\ipykernel_35460\\1802483226.py:23: UserWarning: set_ticklabels() should only be used with a fixed number of ticks, i.e. after set_ticks() or using a FixedLocator.\n",
      "  ax.set_xticklabels(['ahl B6', 'Ahl+ B6'], ha='center',x=-.15)\n"
     ]
    },
    {
     "data": {
      "image/png": "[encoded data removed]",
      "text/plain": [
       "<Figure size 80x120 with 1 Axes>"
      ]
     },
     "metadata": {},
     "output_type": "display_data"
    }
   ],
   "source": [
    "##2 genotypes\n",
    "import seaborn as sns\n",
    "import matplotlib.pyplot as plt\n",
    "color_dict = config.color_dict\n",
    "order = ['Thy1-GC6s; Cdh23 (ahl/ahl)','Thy1-GC6s; Cdh23 (Ahl/ahl)']\n",
    "twop_noF1 = twop_mice[twop_mice['Genotype']!='(F1) Thy1-GC6s; Cdh23 (Ahl/ahl)']\n",
    "fig, ax = plt.subplots(figsize=(0.8, 1.2))\n",
    "\n",
    "sns.pointplot(twop_noF1, y=\"sound_responsive_percent\", x=\"Genotype\", hue = \"Genotype\", order = order, palette=color_dict, estimator='mean', errorbar='se', markersize=4, linewidth=1)\n",
    "#sns.scatterplot(twop_mice, x=\"Genotype\", y=\"sound_responsive_percent\", hue = \"Genotype\", style=\"Sex\", markers=['^','o'], legend = None, palette=color_dict, alpha = 0.3)\n",
    "sns.stripplot(twop_noF1[twop_noF1['Sex']=='M'], y=\"sound_responsive_percent\", x=\"Genotype\", hue = \"Genotype\", marker='^', jitter = 0.2, size= 3, legend = None, palette=color_dict, alpha = 0.2)\n",
    "sns.stripplot(twop_noF1[twop_noF1['Sex']=='F'], y=\"sound_responsive_percent\", x=\"Genotype\", hue = \"Genotype\", marker='s', jitter = 0.2, size=3, legend = None, palette=color_dict, alpha = 0.2)\n",
    "\n",
    "\n",
    "plt.ylim([0,75])\n",
    "plt.yticks([0,25,50,75])\n",
    "ax.set_ylabel(\"Responsive neurons (%)\", labelpad = 0, fontsize=7)\n",
    "plt.xlabel('')\n",
    "\n",
    "ax.spines['right'].set_visible(False)\n",
    "ax.spines['top'].set_visible(False)\n",
    "\n",
    "ax.set_xticklabels(['ahl B6', 'Ahl+ B6'], ha='center',x=-.15)\n",
    "plotting.figQuality(fig, ax)\n",
    "plt.savefig(save_path / \"Fig3_C_sound_responsive_two_genos.svg\")"
   ]
  },
  {
   "cell_type": "code",
   "execution_count": 16,
   "metadata": {},
   "outputs": [
    {
     "name": "stderr",
     "output_type": "stream",
     "text": [
      "C:\\Users\\travisb\\AppData\\Local\\Temp\\ipykernel_35460\\2307310738.py:21: UserWarning: set_ticklabels() should only be used with a fixed number of ticks, i.e. after set_ticks() or using a FixedLocator.\n",
      "  ax.set_xticklabels(['ahl B6', 'Ahl+ B6', 'Ahl+\\nCBA.B6'], ha='center',x=-.15)\n"
     ]
    },
    {
     "data": {
      "image/png": "[encoded data removed]",
      "text/plain": [
       "<Figure size 150x150 with 1 Axes>"
      ]
     },
     "metadata": {},
     "output_type": "display_data"
    }
   ],
   "source": [
    "##3 genotypes\n",
    "import seaborn as sn\n",
    "color_dict = config.color_dict\n",
    "order = config.order\n",
    "fig, ax = plt.subplots(figsize=(1.5, 1.5))\n",
    "\n",
    "sns.pointplot(twop_mice, y=\"sound_responsive_percent\", x=\"Genotype\", hue = \"Genotype\", order = order, palette=color_dict, markersize=4, linewidth=1.5, errorbar='se')\n",
    "#sns.scatterplot(twop_mice, x=\"Genotype\", y=\"sound_responsive_percent\", hue = \"Genotype\", style=\"Sex\", markers=['^','o'], legend = None, palette=color_dict, alpha = 0.3)\n",
    "sns.stripplot(twop_mice[twop_mice['Sex']=='M'], y=\"sound_responsive_percent\", x=\"Genotype\", jitter = 0.2, hue = \"Genotype\", marker='^', size= 3, legend = None, palette=color_dict, alpha = 0.3)\n",
    "sns.stripplot(twop_mice[twop_mice['Sex']=='F'], y=\"sound_responsive_percent\", x=\"Genotype\", jitter = 0.2, hue = \"Genotype\", marker='s', size=3, legend = None, palette=color_dict, alpha = 0.3)\n",
    "\n",
    "\n",
    "plt.ylim([0,75])\n",
    "plt.yticks([0,25,50,75])\n",
    "ax.set_ylabel(\"Responsive neurons (%)\", labelpad = 0, fontsize=7)\n",
    "plt.xlabel('')\n",
    "\n",
    "ax.spines['right'].set_visible(False)\n",
    "ax.spines['top'].set_visible(False)\n",
    "\n",
    "ax.set_xticklabels(['ahl B6', 'Ahl+ B6', 'Ahl+\\nCBA.B6'], ha='center',x=-.15)\n",
    "plotting.figQuality(fig, ax)\n",
    "plt.savefig(save_path / \"SF2_A_sound_responsive_three_genos.svg\")"
   ]
  },
  {
   "cell_type": "code",
   "execution_count": 17,
   "metadata": {},
   "outputs": [
    {
     "data": {
      "text/html": [
       "<div>\n",
       "<style scoped>\n",
       "    .dataframe tbody tr th:only-of-type {\n",
       "        vertical-align: middle;\n",
       "    }\n",
       "\n",
       "    .dataframe tbody tr th {\n",
       "        vertical-align: top;\n",
       "    }\n",
       "\n",
       "    .dataframe thead th {\n",
       "        text-align: right;\n",
       "    }\n",
       "</style>\n",
       "<table border=\"1\" class=\"dataframe\">\n",
       "  <thead>\n",
       "    <tr style=\"text-align: right;\">\n",
       "      <th></th>\n",
       "      <th>sum_sq</th>\n",
       "      <th>df</th>\n",
       "      <th>F</th>\n",
       "      <th>PR(&gt;F)</th>\n",
       "    </tr>\n",
       "  </thead>\n",
       "  <tbody>\n",
       "    <tr>\n",
       "      <th>C(Genotype)</th>\n",
       "      <td>347.605421</td>\n",
       "      <td>2.0</td>\n",
       "      <td>2.420611</td>\n",
       "      <td>0.122722</td>\n",
       "    </tr>\n",
       "    <tr>\n",
       "      <th>C(Sex)</th>\n",
       "      <td>140.503264</td>\n",
       "      <td>1.0</td>\n",
       "      <td>1.956838</td>\n",
       "      <td>0.182188</td>\n",
       "    </tr>\n",
       "    <tr>\n",
       "      <th>C(Genotype):C(Sex)</th>\n",
       "      <td>0.590864</td>\n",
       "      <td>2.0</td>\n",
       "      <td>0.004115</td>\n",
       "      <td>0.995895</td>\n",
       "    </tr>\n",
       "    <tr>\n",
       "      <th>Residual</th>\n",
       "      <td>1077.017406</td>\n",
       "      <td>15.0</td>\n",
       "      <td>NaN</td>\n",
       "      <td>NaN</td>\n",
       "    </tr>\n",
       "  </tbody>\n",
       "</table>\n",
       "</div>"
      ],
      "text/plain": [
       "                         sum_sq    df         F    PR(>F)\n",
       "C(Genotype)          347.605421   2.0  2.420611  0.122722\n",
       "C(Sex)               140.503264   1.0  1.956838  0.182188\n",
       "C(Genotype):C(Sex)     0.590864   2.0  0.004115  0.995895\n",
       "Residual            1077.017406  15.0       NaN       NaN"
      ]
     },
     "execution_count": 17,
     "metadata": {},
     "output_type": "execute_result"
    }
   ],
   "source": [
    "import statsmodels.api as sm\n",
    "from statsmodels.formula.api import ols\n",
    "\n",
    "model = ols('sound_responsive_percent ~ C(Genotype) + C(Sex) + C(Genotype):C(Sex)', data=twop_mice).fit()\n",
    "sm.stats.anova_lm(model, typ=2)"
   ]
  }
 ],
 "metadata": {
  "kernelspec": {
   "display_name": "suite2p",
   "language": "python",
   "name": "python3"
  },
  "language_info": {
   "codemirror_mode": {
    "name": "ipython",
    "version": 3
   },
   "file_extension": ".py",
   "mimetype": "text/x-python",
   "name": "python",
   "nbconvert_exporter": "python",
   "pygments_lexer": "ipython3",
   "version": "3.9.19"
  }
 },
 "nbformat": 4,
 "nbformat_minor": 2
}

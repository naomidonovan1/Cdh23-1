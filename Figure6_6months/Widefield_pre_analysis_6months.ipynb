{
 "cells": [
  {
   "cell_type": "code",
   "execution_count": null,
   "metadata": {},
   "outputs": [],
   "source": [
    "import sys\n",
    "from pathlib import Path\n",
    "import os\n",
    "import datetime\n",
    "import pickle \n",
    "##import \n",
    "sys.path.insert(0, os.path.join(os.path.dirname(os.path.abspath(\"\")),\"Code\",\"Travis\"))\n",
    "import utils\n",
    "import plotting\n",
    "import matplotlib.pyplot as plt\n",
    "import scipy\n",
    "import numpy as np\n",
    "import pandas as pd\n",
    "import config\n",
    "\n",
    "save_path = config.save_path\n",
    "data_path = config.data_path\n",
    "if not save_path.exists():\n",
    "    save_path.mkdir()\n",
    "\n",
    "mice = utils.groupData(dir=data_path, analysis_file_name = \"wfstack_3.pkl\").mice\n",
    "miceToUse = ['m722','m1323', 'm985']\n",
    "color_dict = config.color_dict\n"
   ]
  },
  {
   "cell_type": "code",
   "execution_count": null,
   "metadata": {},
   "outputs": [],
   "source": [
    "listtoanalyze = []\n",
    "for i,mouse in mice.mice.iterrows():\n",
    "    print(mouse['path'])\n",
    "    DOB = mouse['DOB']\n",
    "    DOB = datetime.datetime.strptime(DOB,\"%m/%d/%Y\") \n",
    "\n",
    "    if len(list(mouse['path'].parent.glob(6*\"[0-9]\"))) > 0:\n",
    "        for thing in mouse['path'].parent.glob(6*\"[0-9]\"):\n",
    "            date = datetime.datetime.strptime(str(thing.name),\"%y%m%d\")\n",
    "            print(DOB)\n",
    "            print(date)\n",
    "            if (date-DOB).days > 180:\n",
    "                listtoanalyze.append(thing)\n",
    "\n",
    "listtoanalyze\n",
    "\n",
    "\n",
    "##rerun suite2p on folders that don't have suite2p registration\n",
    "from pathlib import Path\n",
    "from suite2p import run_s2p, default_ops\n",
    "\n",
    "ops = default_ops()\n",
    "def getDb(datadir):\n",
    "    db = {\n",
    "            'fs': 30,\n",
    "            'data_path': [str(datadir)],\n",
    "            'input_format': 'tif',\n",
    "            'roidetect': False,\n",
    "            'do_registration': True\n",
    "        }\n",
    "    return db\n",
    "\n",
    "flist =listtoanalyze\n",
    "for i, file in enumerate(flist):\n",
    "    if not (file / \"suite2p\").exists():\n",
    "        run_s2p(ops=ops, db=getDb(file))"
   ]
  },
  {
   "cell_type": "code",
   "execution_count": null,
   "metadata": {},
   "outputs": [],
   "source": [
    "import time\n",
    "import re\n",
    "mouseList = []\n",
    "for folder in flist:\n",
    "    p = re.compile(\"\\\\\\\\(m[0-9]*)\\\\\\\\\")\n",
    "    mouse = p.findall(str(folder))[0]\n",
    "    if mouse not in mouseList:\n",
    "        if not (folder / \"wfstack_3.pkl\").exists():\n",
    "            print(folder)\n",
    "            start = time.time()\n",
    "            test_stack = utils.widefieldStack(dir = folder)\n",
    "            test_stack.run_pipeline()\n",
    "            print(str(time.time()-start) + \" seconds to complete stack analysis\")\n",
    "            mouseList.append(mouse)"
   ]
  }
 ],
 "metadata": {
  "language_info": {
   "name": "python"
  }
 },
 "nbformat": 4,
 "nbformat_minor": 2
}
